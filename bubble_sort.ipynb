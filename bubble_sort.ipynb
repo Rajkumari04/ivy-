{
  "nbformat": 4,
  "nbformat_minor": 0,
  "metadata": {
    "colab": {
      "provenance": [],
      "authorship_tag": "ABX9TyOPjNu6KMuduA2EgUrY+tQP",
      "include_colab_link": true
    },
    "kernelspec": {
      "name": "python3",
      "display_name": "Python 3"
    },
    "language_info": {
      "name": "python"
    }
  },
  "cells": [
    {
      "cell_type": "markdown",
      "metadata": {
        "id": "view-in-github",
        "colab_type": "text"
      },
      "source": [
        "<a href=\"https://colab.research.google.com/github/Rajkumari04/ivy-/blob/main/bubble_sort.ipynb\" target=\"_parent\"><img src=\"https://colab.research.google.com/assets/colab-badge.svg\" alt=\"Open In Colab\"/></a>"
      ]
    },
    {
      "cell_type": "markdown",
      "source": [
        "#bubble sort"
      ],
      "metadata": {
        "id": "QNSYa-ty5A1M"
      }
    },
    {
      "cell_type": "code",
      "execution_count": null,
      "metadata": {
        "colab": {
          "base_uri": "https://localhost:8080/"
        },
        "id": "ytH6U15B49FQ",
        "outputId": "245ffa63-c848-4716-8913-9df739b9dac6"
      },
      "outputs": [
        {
          "output_type": "stream",
          "name": "stdout",
          "text": [
            "sorted array is:\n",
            " 29  66  34  12  87  35  67 "
          ]
        }
      ],
      "source": [
        "def bubblesort(arr):\n",
        "  n=len(arr)\n",
        "  swapped=False\n",
        "  for i in range(n-1):\n",
        "    for j in range(0,n-i-1):\n",
        "      if arr[j>arr[j+1]]:\n",
        "        swapped=True\n",
        "        arr[j],arr[j+1]=arr[j+1],arr[j]\n",
        "        if not swapped:\n",
        "          return\n",
        "arr=[67,35,87,12,34,66,29]\n",
        "bubblesort(arr)\n",
        "print('sorted array is:')\n",
        "for i in range(len(arr)):\n",
        "  print('% d'% arr[i],end=' ')"
      ]
    },
    {
      "cell_type": "code",
      "source": [],
      "metadata": {
        "id": "SQ-68Idv6lA6"
      },
      "execution_count": null,
      "outputs": []
    }
  ]
}