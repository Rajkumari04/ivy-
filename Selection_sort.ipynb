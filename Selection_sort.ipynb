{
  "nbformat": 4,
  "nbformat_minor": 0,
  "metadata": {
    "colab": {
      "provenance": [],
      "authorship_tag": "ABX9TyMEpapozfJycIl4AYaZiygC",
      "include_colab_link": true
    },
    "kernelspec": {
      "name": "python3",
      "display_name": "Python 3"
    },
    "language_info": {
      "name": "python"
    }
  },
  "cells": [
    {
      "cell_type": "markdown",
      "metadata": {
        "id": "view-in-github",
        "colab_type": "text"
      },
      "source": [
        "<a href=\"https://colab.research.google.com/github/Rajkumari04/ivy-/blob/main/Selection_sort.ipynb\" target=\"_parent\"><img src=\"https://colab.research.google.com/assets/colab-badge.svg\" alt=\"Open In Colab\"/></a>"
      ]
    },
    {
      "cell_type": "markdown",
      "source": [
        "#Selection sort\n"
      ],
      "metadata": {
        "id": "KI7W2QVgQI1l"
      }
    },
    {
      "cell_type": "code",
      "execution_count": null,
      "metadata": {
        "colab": {
          "base_uri": "https://localhost:8080/"
        },
        "id": "ReUwsfP1QHr1",
        "outputId": "3518a056-428c-47bd-d645-6385cf6d5abf"
      },
      "outputs": [
        {
          "output_type": "stream",
          "name": "stdout",
          "text": [
            "shorted list [23, 31, 40, 44, 67]\n"
          ]
        }
      ],
      "source": [
        "def sort_list(list):\n",
        "  for i in range(len(list)):\n",
        "    min_index=i\n",
        "    for j in range(i+1,len(list)):\n",
        "      if list[j]<list[min_index]:\n",
        "        min_index=j\n",
        "    list[i],list[min_index]=list[min_index],list[i]\n",
        "my_list=[44,67,23,40,31]\n",
        "sort_list(my_list)\n",
        "print('shorted list',my_list)"
      ]
    },
    {
      "cell_type": "code",
      "source": [],
      "metadata": {
        "id": "OvfVKIbfRUQM"
      },
      "execution_count": null,
      "outputs": []
    }
  ]
}