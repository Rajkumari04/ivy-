{
  "nbformat": 4,
  "nbformat_minor": 0,
  "metadata": {
    "colab": {
      "provenance": [],
      "authorship_tag": "ABX9TyPcdbh8MxfN9NMNX4fx793e",
      "include_colab_link": true
    },
    "kernelspec": {
      "name": "python3",
      "display_name": "Python 3"
    },
    "language_info": {
      "name": "python"
    }
  },
  "cells": [
    {
      "cell_type": "markdown",
      "metadata": {
        "id": "view-in-github",
        "colab_type": "text"
      },
      "source": [
        "<a href=\"https://colab.research.google.com/github/Rajkumari04/ivy-/blob/main/Gross_Salary.ipynb\" target=\"_parent\"><img src=\"https://colab.research.google.com/assets/colab-badge.svg\" alt=\"Open In Colab\"/></a>"
      ]
    },
    {
      "cell_type": "markdown",
      "source": [
        "# Gross salary"
      ],
      "metadata": {
        "id": "kAsGin8rBY4C"
      }
    },
    {
      "cell_type": "code",
      "execution_count": null,
      "metadata": {
        "colab": {
          "base_uri": "https://localhost:8080/"
        },
        "id": "oHW_kIfWAa4Q",
        "outputId": "1387720b-ae7c-450b-a9aa-2c46934fe839"
      },
      "outputs": [
        {
          "output_type": "stream",
          "name": "stdout",
          "text": [
            "enter the salary:500000\n",
            "final salary with tax= 300000.0\n",
            "5% income tax rate\n",
            "final salary= 15000.0\n"
          ]
        }
      ],
      "source": [
        "salary=float(input('enter the salary:'))\n",
        "non_tax_salary=salary-150000\n",
        "non_tax_salary=max(0,non_tax_salary)\n",
        "after_compensation=non_tax_salary-50000\n",
        "final_salary=after_compensation\n",
        "print('final salary with tax=',final_salary)\n",
        "if final_salary<=150000:\n",
        "  print('0% income tax rate')\n",
        "elif final_salary<=400000:\n",
        "  print('5% income tax rate')\n",
        "  income_tax_rate=final_salary*5/100\n",
        "  final_salary=income_tax_rate\n",
        "  print('final salary=',final_salary)\n",
        "else:\n",
        "  print('income tax rate greater than 5% is not in this example')"
      ]
    },
    {
      "cell_type": "code",
      "source": [],
      "metadata": {
        "id": "XNaCpiqOHZ-j"
      },
      "execution_count": null,
      "outputs": []
    }
  ]
}