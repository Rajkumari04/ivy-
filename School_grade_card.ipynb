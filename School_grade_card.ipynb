{
  "nbformat": 4,
  "nbformat_minor": 0,
  "metadata": {
    "colab": {
      "provenance": [],
      "authorship_tag": "ABX9TyOn1lEnQ50SKqrPnc2sozw0",
      "include_colab_link": true
    },
    "kernelspec": {
      "name": "python3",
      "display_name": "Python 3"
    },
    "language_info": {
      "name": "python"
    }
  },
  "cells": [
    {
      "cell_type": "markdown",
      "metadata": {
        "id": "view-in-github",
        "colab_type": "text"
      },
      "source": [
        "<a href=\"https://colab.research.google.com/github/Rajkumari04/ivy-/blob/main/School_grade_card.ipynb\" target=\"_parent\"><img src=\"https://colab.research.google.com/assets/colab-badge.svg\" alt=\"Open In Colab\"/></a>"
      ]
    },
    {
      "cell_type": "markdown",
      "source": [
        "#School Grade Card"
      ],
      "metadata": {
        "id": "vQAdU64TJi2w"
      }
    },
    {
      "cell_type": "code",
      "execution_count": null,
      "metadata": {
        "colab": {
          "base_uri": "https://localhost:8080/"
        },
        "id": "AYNupfVSJeYw",
        "outputId": "22ea8808-93d9-4d7e-9542-75d1488d7e59"
      },
      "outputs": [
        {
          "output_type": "stream",
          "name": "stdout",
          "text": [
            "enter the number=88\n",
            "enter the number=84\n",
            "enter the number=76\n",
            "enter the number=90\n",
            "enter the number=62\n",
            "total number out of 500= 400.0\n",
            "total percentage obtained= 80.0 %\n",
            "your grade is B\n"
          ]
        }
      ],
      "source": [
        "sub1=float(input('enter the number='))\n",
        "sub2=float(input('enter the number='))\n",
        "sub3=float(input('enter the number='))\n",
        "sub4=float(input('enter the number='))\n",
        "sub5=float(input('enter the number='))\n",
        "sum=sub1+sub2+sub3+sub4+sub5\n",
        "print('total number out of 500=',sum)\n",
        "percentage=(sum//5)\n",
        "print('total percentage obtained=',percentage,'%')\n",
        "if percentage>95:\n",
        "  print('your grade is A+')\n",
        "elif percentage>90:\n",
        "  print('your grade is A')\n",
        "elif percentage>80:\n",
        "  print('your grade is B+')\n",
        "elif percentage>70:\n",
        "  print('your grade is B')\n",
        "elif percentage>60:\n",
        "  print('your grade is C+')\n",
        "elif percentage>50:\n",
        "  print('your grade is C')\n",
        "elif percentage>40:\n",
        "  print('your grade is D+')\n",
        "elif percentage>35:\n",
        "  print('your grade is D')\n",
        "else:\n",
        "  print('your grade is F')"
      ]
    },
    {
      "cell_type": "code",
      "source": [],
      "metadata": {
        "id": "kyvLlw3MNr8E"
      },
      "execution_count": null,
      "outputs": []
    }
  ]
}