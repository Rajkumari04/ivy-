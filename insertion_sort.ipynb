{
  "nbformat": 4,
  "nbformat_minor": 0,
  "metadata": {
    "colab": {
      "provenance": [],
      "authorship_tag": "ABX9TyNvPMcjGFItXiCXaEM0hLyo",
      "include_colab_link": true
    },
    "kernelspec": {
      "name": "python3",
      "display_name": "Python 3"
    },
    "language_info": {
      "name": "python"
    }
  },
  "cells": [
    {
      "cell_type": "markdown",
      "metadata": {
        "id": "view-in-github",
        "colab_type": "text"
      },
      "source": [
        "<a href=\"https://colab.research.google.com/github/Rajkumari04/ivy-/blob/main/insertion_sort.ipynb\" target=\"_parent\"><img src=\"https://colab.research.google.com/assets/colab-badge.svg\" alt=\"Open In Colab\"/></a>"
      ]
    },
    {
      "cell_type": "markdown",
      "source": [
        "#insertion sort"
      ],
      "metadata": {
        "id": "_PqC_DMBYduS"
      }
    },
    {
      "cell_type": "code",
      "execution_count": null,
      "metadata": {
        "id": "lxYXvxKOYcMJ"
      },
      "outputs": [],
      "source": [
        "def insertion_sort(arr):\n",
        "  for i in range(1,len(arr)):\n",
        "    key=arr[i]\n",
        "    pos=i-1\n",
        "    while pos>=0 and key<arr[pos]:\n",
        "      arr[pos+1]=arr[pos]\n",
        "      pos=i-1\n",
        "    arr[pos+1]=key\n",
        "myarray=[66,12,34,52,74]\n",
        "insertion_sort(myarray)\n",
        "print('sorted array:',myarray)\n"
      ]
    },
    {
      "cell_type": "code",
      "source": [],
      "metadata": {
        "id": "1njNZgiAlE6A"
      },
      "execution_count": null,
      "outputs": []
    }
  ]
}